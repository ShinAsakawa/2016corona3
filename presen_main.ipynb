{
 "cells": [
  {
   "cell_type": "markdown",
   "metadata": {},
   "source": [
    "# 第4回Pythonで実践する深層学習勉強会\n",
    "\n",
    "<center>\n",
    "浅川伸一 __asakawa@ieee.org__\n",
    "</center>\n",
    "\n",
    "# メイン"
   ]
  },
  {
   "cell_type": "markdown",
   "metadata": {},
   "source": [
    "## 本日のメニュー\n",
    "\n",
    "1. [計算グラフ](computation_graph.ipynb)\n",
    "1. TensorFlow Tutorial:\n",
    "    - [tf の Pros/Cons](pros_cons.ipynb)\n",
    "    - ハンズオン\n",
    "        - [linear regression1](lab1_FFN_tensorflow.ipynb)\n",
    "        - [linear regression2](2_linear_regression.ipynb)\n",
    "2. [畳込ニューラルネットワーク Convolutional Neural Networks: CNN](presen_cnn.ipynb)\n",
    "    1. [TensorFlow CNN1](lab2_CNN_tensorflow.ipynb)\n",
    "    1. [TensorFlow CNN2](2016aymericdamien_TensorFlow-Examples/notebooks/3_NeuralNetworks/convolutional_network.ipynb)\n",
    "    1. [TensorFlow CNN3](2016udacity.tensorflow/4_convolutions.ipynb)\n",
    "3. [顔認識](presen_face.ipynb)\n",
    "    1. [scikit-learn による顔識別デモ](face_recognition.ipynb)\n",
    "\n",
    "<!-- 2. [固有顔とフィッシャー顔](eigenfaces_vs_fisherfaces.ipynb) -->"
   ]
  },
  {
   "cell_type": "code",
   "execution_count": null,
   "metadata": {
    "collapsed": true
   },
   "outputs": [],
   "source": []
  }
 ],
 "metadata": {
  "anaconda-cloud": {},
  "kernelspec": {
   "display_name": "Python [conda root]",
   "language": "python",
   "name": "conda-root-py"
  },
  "language_info": {
   "codemirror_mode": {
    "name": "ipython",
    "version": 2
   },
   "file_extension": ".py",
   "mimetype": "text/x-python",
   "name": "python",
   "nbconvert_exporter": "python",
   "pygments_lexer": "ipython2",
   "version": "2.7.12"
  }
 },
 "nbformat": 4,
 "nbformat_minor": 1
}
