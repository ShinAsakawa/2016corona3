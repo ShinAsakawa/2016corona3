{
 "cells": [
  {
   "cell_type": "markdown",
   "metadata": {},
   "source": [
    "# 第4回Pythonで実践する深層学習勉強会\n",
    "\n",
    "<center>\n",
    "浅川伸一 __asakawa@ieee.org__\n",
    "</center>\n",
    "\n",
    "\n",
    "# 計算グラフ Computation graph 編\n",
    "\n",
    "[TensorFlow](https://www.tensorflow.org/) や [Theano](http://deeplearning.net/software/theano/) では ``計算グラフ`` の概念を用いている。２０１５年 Chris Olah が誤差逆伝播の演算を計算グラフを用いて説明する[ブログ](https://colah.github.io/posts/2015-08-Backprop/)を書いている。[日本語訳](http://postd.cc/2015-08-backprop/)もなされているので参照されたい。"
   ]
  },
  {
   "cell_type": "markdown",
   "metadata": {},
   "source": [
    "本ページは [goo.gl/nrdsxM](goo.gl/nrdsxM)を参考にした。\n",
    "\n",
    "---\n",
    "\n",
    "## 計算グラフの定義\n",
    "\n",
    "TensorFlow (以下 tf と略記)は ``計算グラフ``の考え方を理解する必要がある。具体的なプログラミングの流れとしては\n",
    "\n",
    "1. 計算の設計図である計算グラフを定義し\n",
    "2. 定義した計算の操作を実行する\n",
    "\n",
    "となる。tf のコードを書く場合，手順 1.では定義だけで計算は実行されない。手順 2.で実際の計算が行われる(tf の場合 `Session`) 。\n",
    "以下にサンプルコードを示す："
   ]
  },
  {
   "cell_type": "code",
   "execution_count": null,
   "metadata": {
    "collapsed": false
   },
   "outputs": [],
   "source": [
    "import tensorflow as tf\n",
    "\n",
    "with tf.Graph().as_default() as g:\n",
    "  x = tf.Variable(1.0, name=\"x\")\n",
    "  add_op = tf.add(x, tf.constant(1.5))\n",
    "  assign_op = tf.assign(x, add_op)\n",
    "  init = tf.initialize_all_variables()\n",
    "  with tf.Session() as sess:\n",
    "    sess.run(init)\n",
    "    sess.run(assign_op)\n",
    "    print(sess.run(x))"
   ]
  },
  {
   "cell_type": "markdown",
   "metadata": {},
   "source": [
    "---\n",
    "\n",
    "1行目は tf の `import` 文である。\n",
    "2行目の `Graph` はデータ処理の流れとしてグラフの定義を行う。tf の計算はデータ処理フローをグラフとして定義される。\n",
    "`グラフ` の要素には `演算 Operation` と `Tensor テンソル` がある。\n",
    "\n",
    "- `演算 Operation`: 計算単位を表現するためのオブジェクト\n",
    "- `テンソル Tensor`: データ処理間のデータ処理単位を表現するためのオブジェクト\n",
    "\n",
    "デフォルトの `グラフ` を宣言することでメモリ上に登録し，`tf.get_default_graph()` を呼び出すことで演算を実行する。\n",
    "デフォルトのグラフにある演算を追加するには，`演算 Operation` を呼び出せばよい。\n",
    "\n",
    "```python\n",
    "import tensorflow as tf\n",
    "\n",
    "with tf.Graph().as_default():\n",
    "```"
   ]
  },
  {
   "cell_type": "markdown",
   "metadata": {},
   "source": [
    "`as_default()` 関数は後続する `変数 Variable` と `演算 Operation` を `tf.Graph()` で作成されたグラフに追加する。<br>\n",
    "次の行は `定数 constant` を作成しているが `c` に代入という `演算` が **実行されるわけではない**。\n",
    "\n",
    "```python\n",
    "  c = tf.constant(1.5)\n",
    "```"
   ]
  },
  {
   "cell_type": "markdown",
   "metadata": {},
   "source": [
    "この行が実行されることで設計図が作成されるが `変数 c に値を代入する` という演算は行われない。"
   ]
  },
  {
   "cell_type": "markdown",
   "metadata": {},
   "source": [
    "次の行では `変数 Variable` を生成している:\n",
    "\n",
    "    x = tf.Variable(1.0, name=\"x\")"
   ]
  },
  {
   "cell_type": "markdown",
   "metadata": {},
   "source": [
    "この行を実行することでグラフに `変数 Variable` を作成することになる。"
   ]
  },
  {
   "cell_type": "markdown",
   "metadata": {},
   "source": [
    "実際には上の１行で３つオブジェクトが生成される：\n",
    "\n",
    "1. `変数` ノード\n",
    "2. 定数\n",
    "3. 代入という演算"
   ]
  },
  {
   "cell_type": "markdown",
   "metadata": {},
   "source": [
    "<!--\n",
    "When Python executes the code `x = tf.Variable(1.0, name=\"x\")`, the `Variable`\n",
    "is declared, but has not been allocated or initialized. The `Variable` is also\n",
    "assigned the name we passed in. As you can see in the figure, TensorFlow takes\n",
    "the name and appends \":0\" to it to get \"x:0\" as the final Tensor's name.\n",
    "-->\n",
    "Python で `x = tf.Variable（1.0, name=\"x\"）` というコードを実行すると `x` という名前を持つ変数が宣言されるが，\n",
    "メモリ割り当てはなされない。初期化もされない。\n",
    "<!-- 「変数」もまた\n",
    "私たちが渡した名前が割り当てられています。図でわかるように、TensorFlowは\n",
    "--> tf は名前に `:0` を付加して `テンソル名x:0` となる。"
   ]
  },
  {
   "cell_type": "markdown",
   "metadata": {},
   "source": [
    "<!--\n",
    "It can help to understand how objects are named in TensorFlow. Each operation is\n",
    "given a unique name. In the case of the node for the `Variable`, we've created\n",
    "an operation of type `VariableOp` that is named \"x\" that produces a Tensor. This\n",
    "tensor is a writable reference type (`tf.float32_ref`) named \"x:0\".\n",
    "-->\n",
    "\n",
    "tf におけるオブジェクト命名規則に従い，各操作で生成される `Variable` ノードにおいて名前 `x` を付与する場合番号を付加して `:0` という書き込み可能な参照型 (`tf.float32_ref`) の名前 \"x:0\" を得る。"
   ]
  },
  {
   "cell_type": "markdown",
   "metadata": {},
   "source": [
    "* `テンソル` は一連の操作によって付与される名前オブジェクトであり，連番が付加される。 `VariableOp` は常に 1 つの出力を持つのでテンソル名は \"x:0\" となる。`tf.split` などの演算は複数のオブジェクトを生成する。例えば `tf.split(0, 2, input, name='x'）` では 2 つの出力テンソル \"x:0\" と \"x:1\" とを生成する。\n",
    "\n",
    "* 既に存在する名前が割り当てられている場合は tf はアンダースコアと数字を追加することで一意性を保証する。\"x\" という名前の 2 番目の変数を宣言すれば \"x_1:0\" となる\n",
    "\n",
    "<!--\n",
    "* `Tensors` are named after the operation and are sequentially numbered. A\n",
    "    `VariableOp` always has one output, so the Tensor is named \"x:0\". Some\n",
    "    operations, such as `tf.split` produce multiple outputs. For example,\n",
    "    `tf.split(0, 2, input, name='x')` would produce two output Tensors named\n",
    "    \"x:0\" and \"x:1\".\n",
    "    \n",
    "* If an operation is assigned a name that already exists in the graph, then\n",
    "    TensorFlow ensures uniqueness by appending an underscore and number. For\n",
    "    example, declaring a second Variable named \"x\" would yield a name of\n",
    "    \"x_1:0\".\n",
    "-->"
   ]
  },
  {
   "cell_type": "markdown",
   "metadata": {},
   "source": [
    "** Python変数** `x` はそのノードへの参照を含むが，この時点ではインスタンス化されていないので `Variable` の値にアクセスすることはできない。定数と `assign` 演算子を加えることで変数 `Variable` を初期化することができるようになる。`assign` によって返された参照により `Variable` の値への参照が許されるようになる。返された参照は `assign` 演算を実行させるために実行されなければならない。\n",
    "`tf.initialize_all_variables（）`を実行した後 `assign` 演算を行う必要がある。\n",
    "冗長に見えるかもしれないが以下のコードである："
   ]
  },
  {
   "cell_type": "markdown",
   "metadata": {
    "collapsed": true
   },
   "source": [
    "```python\n",
    "    add_op = tf.add(x, c)\n",
    "```"
   ]
  },
  {
   "cell_type": "markdown",
   "metadata": {},
   "source": [
    "以下のコードで名前 `x` に `変数 Variable` を割り当てることができる。"
   ]
  },
  {
   "cell_type": "markdown",
   "metadata": {
    "collapsed": true
   },
   "source": [
    "```python\n",
    "    assign_op = tf.assign(x, add_op)\n",
    "```"
   ]
  },
  {
   "cell_type": "markdown",
   "metadata": {},
   "source": [
    "数値を追加して結果を `Variable` に戻す前に `変数 ` を初期化する必要がある。\n",
    "`Session.run()` を呼び出す前に，必ず `tf.initialize_all_variables()` を実行して\n",
    "全変数を初期化してから `Session.run()` を実行する。"
   ]
  },
  {
   "cell_type": "markdown",
   "metadata": {
    "collapsed": true
   },
   "source": [
    "```python\n",
    "    init = tf.initialize_all_variables()\n",
    "```"
   ]
  },
  {
   "cell_type": "markdown",
   "metadata": {},
   "source": [
    "この操作により `assign()` で，変数を割り当て，初期化される。"
   ]
  },
  {
   "cell_type": "markdown",
   "metadata": {},
   "source": [
    "上記はまだ設計図を描いただけであり，計算は実行されない。\n",
    "定義した計算グラフが **実行** されると，加算が実行される。計算グラフの実行は `Session` で行う。\n",
    "\n",
    "```python\n",
    "  with tf.Session() as sess:\n",
    "```"
   ]
  },
  {
   "cell_type": "markdown",
   "metadata": {},
   "source": [
    "![Create graph](images/graph-01-06.png)"
   ]
  },
  {
   "cell_type": "markdown",
   "metadata": {},
   "source": [
    "```python\n",
    "  with tf.Session() as sess:\n",
    "    sess.run(init)\n",
    "```"
   ]
  },
  {
   "cell_type": "markdown",
   "metadata": {},
   "source": [
    "計算が実行されると下図のようになる：\n",
    "\n",
    "![Call init](images/graph-01-07.png)"
   ]
  },
  {
   "cell_type": "markdown",
   "metadata": {},
   "source": [
    "図のように `tf.initialize_all_variables` 演算子に接続された部分グラフが実行される。\n",
    "\n",
    "一番上の `assign` を実行すれば tf は依存関係を自動的に判断して実行する。\n",
    "この場合 `assign` 演算子は `add` の演算結果に依存するので最初に `add` が実行される。"
   ]
  },
  {
   "cell_type": "markdown",
   "metadata": {},
   "source": [
    "```python\n",
    "    sess.run(assign_op)\n",
    "```"
   ]
  },
  {
   "cell_type": "markdown",
   "metadata": {},
   "source": [
    "下位グラフの計算すると：\n",
    "\n",
    "![Assign op dependencies](images/graph-01-09.png)"
   ]
  },
  {
   "cell_type": "markdown",
   "metadata": {},
   "source": [
    "加算の実行：\n",
    "![Add op running](images/graph-01-10.png)\n",
    "\n",
    "---\n",
    "\n",
    "変数に値を保存する\n",
    "\n",
    "![Assignment op running](images/graph-01-11.png)\n",
    "\n",
    "以上により以下の結果を得る："
   ]
  },
  {
   "cell_type": "markdown",
   "metadata": {
    "collapsed": true
   },
   "source": [
    "```python\n",
    "    print(sess.run(x))  # 2.5 と出力される\n",
    "```"
   ]
  },
  {
   "cell_type": "markdown",
   "metadata": {},
   "source": [
    "以下に最終的なコードを再度記す："
   ]
  },
  {
   "cell_type": "code",
   "execution_count": null,
   "metadata": {
    "collapsed": false
   },
   "outputs": [],
   "source": [
    "import tensorflow as tf\n",
    "\n",
    "with tf.Graph().as_default() as g:\n",
    "  x = tf.Variable(1.0, name=\"x\")\n",
    "  add_op = tf.add(x, tf.constant(1.5))\n",
    "  assign_op = tf.assign(x, add_op)\n",
    "  init = tf.initialize_all_variables()\n",
    "  with tf.Session() as sess:\n",
    "    sess.run(init)\n",
    "    sess.run(assign_op)\n",
    "    print(sess.run(x))"
   ]
  },
  {
   "cell_type": "markdown",
   "metadata": {},
   "source": [
    "通常 `Graph` や `Session` を明示的に作成することを心配する必要はない。これらのオブジェクトは `tf.learn` のような高水準 API により自動的に作成される。多くの場合，ここに示した低レベルの操作を定義することについて心配する必要はない。\n",
    "しかし tf で計算を定義する方法と実際に計算がどのように実行されるかについて基本的な概念をつかむことは有効である。\n",
    "オリジナルの[チュートリアル](https://www.tensorflow.org/versions/r0.10/get_started/basic_usage.html)も参照のこと。"
   ]
  },
  {
   "cell_type": "markdown",
   "metadata": {},
   "source": [
    "## tf の典型例\n",
    "\n",
    "1. 計算の記述\n",
    "    * 入出力，変数，操作，など。以下のブロック内に記述する\n",
    "\n",
    "      with graph.as_default():\n",
    "          ...\n",
    "\n",
    "2. 定義した計算グラフをセッションを実行する `session.run()`　を呼び出すことで実行。以下のブロック内に記述する\n",
    "\n",
    "      with tf.Session(graph=graph) as session:\n",
    "          ...\n"
   ]
  },
  {
   "cell_type": "markdown",
   "metadata": {},
   "source": [
    "---\n",
    "\n",
    "以下では[https://github.com/DeepLearningDTU/02456-deep-learning/](https://github.com/DeepLearningDTU/02456-deep-learning/)を参考にした。"
   ]
  },
  {
   "cell_type": "markdown",
   "metadata": {},
   "source": [
    "---\n",
    "\n",
    "<!--lab1_FFN_tensorflow.ipynb-->\n",
    "tf 専門用語：\n",
    "\n",
    "[tf.placeholder](https://www.tensorflow.org/versions/r0.10/api_docs/python/io_ops.html#placeholder) は tf の計算グラフに入力データをセットするために用いる。テンソルの次元数と各次元のサイズを指定する。定義の際にサイズ指定に `None` を指定すると実行時にバッチサイズによって定まる。\n",
    "\n",
    "[tf.Variable](https://www.tensorflow.org/versions/r0.10/api_docs/python/state_ops.html#Variable)はグラフのテンソルデータを保持，更新に用いられるのでニューラルネットワークの結合係数行列に用いられる。`None` を指定可能なのは上と同様。\n",
    "\n",
    "[tf.Operation](https://www.tensorflow.org/versions/r0.10/api_docs/python/framework.html#Operation) はテンソルに対する計算の操作を定める。"
   ]
  },
  {
   "cell_type": "markdown",
   "metadata": {},
   "source": [
    "## サンプルコード\n",
    "\n",
    "<font color=\"blue\">実習</font>: \n",
    "以下のコードをは中間層 1 層を数行の修正で 2 層にできる。"
   ]
  },
  {
   "cell_type": "code",
   "execution_count": 1,
   "metadata": {
    "collapsed": false,
    "scrolled": false
   },
   "outputs": [
    {
     "name": "stdout",
     "output_type": "stream",
     "text": [
      "Epoch 0, Train Cost: 0.621\tVal Cost: 0.608\t Val acc: 0.820\n",
      "Epoch 100, Train Cost: 0.352\tVal Cost: 0.371\t Val acc: 0.810\n",
      "Epoch 200, Train Cost: 0.325\tVal Cost: 0.346\t Val acc: 0.830\n",
      "Epoch 300, Train Cost: 0.315\tVal Cost: 0.338\t Val acc: 0.830\n",
      "Epoch 400, Train Cost: 0.309\tVal Cost: 0.334\t Val acc: 0.830\n",
      "Epoch 500, Train Cost: 0.307\tVal Cost: 0.333\t Val acc: 0.820\n",
      "Epoch 600, Train Cost: 0.305\tVal Cost: 0.332\t Val acc: 0.810\n",
      "Epoch 700, Train Cost: 0.304\tVal Cost: 0.332\t Val acc: 0.800\n",
      "Epoch 800, Train Cost: 0.303\tVal Cost: 0.332\t Val acc: 0.800\n",
      "Epoch 900, Train Cost: 0.303\tVal Cost: 0.332\t Val acc: 0.800\n",
      "\n",
      "Test Cost: 0.272\tTest Accuracy: 0.870\n"
     ]
    },
    {
     "data": {
      "text/plain": [
       "(<matplotlib.text.Text at 0x112ef8650>, <matplotlib.text.Text at 0x112fc2090>)"
      ]
     },
     "execution_count": 1,
     "metadata": {},
     "output_type": "execute_result"
    },
    {
     "data": {
      "image/png": "[encoded data removed]",
      "text/plain": [
       "<matplotlib.figure.Figure at 0x111dcd190>"
      ]
     },
     "metadata": {},
     "output_type": "display_data"
    },
    {
     "data": {
      "image/png": "[encoded data removed]",
      "text/plain": [
       "<matplotlib.figure.Figure at 0x112ecdc90>"
      ]
     },
     "metadata": {},
     "output_type": "display_data"
    }
   ],
   "source": [
    "from __future__ import print_function\n",
    "import six\n",
    "import numpy as np\n",
    "import sklearn.datasets\n",
    "import tensorflow as tf\n",
    "from tensorflow.python.framework.ops import reset_default_graph\n",
    "import matplotlib.pyplot as plt\n",
    "%matplotlib inline\n",
    "\n",
    "# Set the seed for random number generator\n",
    "np.random.seed(0)\n",
    "# Set the number to be sampled\n",
    "num_samples = 300\n",
    "\n",
    "import sklearn.datasets\n",
    "# set the moons dataset from scikit-learn [http://scikit-learn.org/]\n",
    "X, y = sklearn.datasets.make_moons(num_samples, noise=0.20)\n",
    "\n",
    "X_train = X[:100].astype('float32')\n",
    "X_val = X[100:200].astype('float32')\n",
    "X_test = X[200:].astype('float32')\n",
    "\n",
    "y_train = y[:100].astype('int32')\n",
    "y_val = y[100:200].astype('int32')\n",
    "y_test = y[200:].astype('int32')\n",
    "\n",
    "plt.scatter(X_train[:,0], X_train[:,1], s=40, c=y_train, cmap=plt.cm.BuGn)\n",
    "\n",
    "# resets the graph, required when we will **re-initialize** weights\n",
    "reset_default_graph()\n",
    "\n",
    "# Encode one-hot manner, C. Bishop described this as 1-of-k \n",
    "def onehot(t, num_classes):\n",
    "    out = np.zeros((t.shape[0], num_classes))\n",
    "    for row, col in enumerate(t):\n",
    "        out[row, col] = 1\n",
    "    return out\n",
    "\n",
    "# Define grobal variables\n",
    "num_features = X_train.shape[-1]\n",
    "num_output = 2\n",
    "\n",
    "# Setting up a placeholder\n",
    "x_pl = tf.placeholder(tf.float32, [None, num_features])\n",
    "\n",
    "#####################################################################\n",
    "# Setting up variables, these variables are weights in your network\n",
    "#####################################################################\n",
    "\n",
    "# Initialize the weigths with the standard normal distribution\n",
    "weight_initializer = tf.truncated_normal_initializer(stddev=0.1)\n",
    "with tf.variable_scope('l_1'): \n",
    "    W_1 = tf.get_variable('W', [num_features, num_output], \n",
    "### uncomment me instead of the following\n",
    "#    W_1 = tf.get_variable('W', [num_features, 100], \n",
    "                          initializer=weight_initializer)\n",
    "    b_1 = tf.get_variable('b', [num_output],               \n",
    "### uncomment me instead of the following\n",
    "#    b_1 = tf.get_variable('b', [100], \n",
    "                          initializer=tf.constant_initializer(0.0))\n",
    "\n",
    "# uncomment the following block for a single perceptron\n",
    "#with tf. variable_scope('l_2'):\n",
    "#    W_2 = tf.get_variable('W', [100, num_output],\n",
    "#                          initializer=weight_initializer)\n",
    "#    b_2 = tf.get_variable('b', [num_output],\n",
    "#                          initializer=tf.constant_initializer(0.0))\n",
    "\n",
    "# Define operations, these operations will set edges along with \n",
    "# the computational graph.\n",
    "# The below operations will compute a logistic regression\n",
    "l_1 = tf.matmul(x_pl, W_1) + b_1\n",
    "\n",
    "# to make a hidden layer we need a nonlinearity\n",
    "l_1_nonlinear = tf.nn.relu(l_1)\n",
    "\n",
    "# the layer before the softmax should not have a nonlinearity\n",
    "#l_2 = tf.matmul(l_1_nonlinear, W_2) + b_2\n",
    "\n",
    "y = tf.nn.softmax(l_1) # for a single layer perceptron. ### uncomment me \n",
    "#y = tf.nn.softmax(l_2)\n",
    "\n",
    "# y_ is a placeholder taking on the teacher data. \n",
    "# This notation is a traditional convention for scikit-learn\n",
    "y_ = tf.placeholder(tf.float32, [None, num_output])\n",
    "\n",
    "# computing cross entropy loss per sample\n",
    "cross_entropy = -tf.reduce_sum(y_ * tf.log(y), reduction_indices=[1])\n",
    "\n",
    "# averaging over samples\n",
    "cross_entropy = tf.reduce_mean(cross_entropy)\n",
    "\n",
    "# Defining our optimizer (try with different optimizers here!)\n",
    "optimizer = tf.train.GradientDescentOptimizer(learning_rate=0.1)\n",
    "\n",
    "# Computing our gradients\n",
    "grads_and_vars = optimizer.compute_gradients(cross_entropy)\n",
    "\n",
    "# Applying the gradients\n",
    "train_op = optimizer.apply_gradients(grads_and_vars)\n",
    "\n",
    "# making a one-hot vector\n",
    "correct_prediction = tf.equal(tf.argmax(y, 1), tf.argmax(y_, 1))\n",
    "\n",
    "# averaging the one-hot vector\n",
    "accuracy = tf.reduce_mean(tf.cast(correct_prediction, tf.float32))\n",
    "\n",
    "# Write the graph so we can look at it in TensorBoard\n",
    "# Now is a good time to try that\n",
    "# https://www.tensorflow.org/versions/r0.10/how_tos/summaries_and_tensorboard/index.html\n",
    "sw = tf.train.SummaryWriter('.', graph=tf.get_default_graph())\n",
    "# try from command line ```tensorboard --logdir=.```\n",
    "\n",
    "# defining a function to make predictions using our classifier\n",
    "def pred(X_in, sess):\n",
    "    # first we must define what data to give it\n",
    "    feed_dict = {x_pl: X_in}\n",
    "    # secondly our fetches\n",
    "    fetches = [y]\n",
    "    # utilizing the given session (ref. sess) to compute results\n",
    "    res = sess.run(fetches, feed_dict)\n",
    "    # res is a list with each indices representing the corresponding element in fetches\n",
    "    return res[0]\n",
    "\n",
    "# Training loop\n",
    "num_epochs = 1000\n",
    "\n",
    "train_cost, val_cost, val_acc = [],[],[]\n",
    "\n",
    "with tf.Session() as sess:\n",
    "    # initializing all variables\n",
    "    init = tf.initialize_all_variables()\n",
    "    sess.run(init)\n",
    "    for e in range(num_epochs):\n",
    "        ### TRAINING ###\n",
    "        # what to feed to our train_operation\n",
    "        # notice we onehot encode our predictions to change shape \n",
    "        # from (batch,) -> (batch, num_output)\n",
    "        feed_dict_train = {x_pl: X_train, y_: onehot(y_train, num_output)}\n",
    "        \n",
    "        # deciding which parts to fetch, train_op makes the classifier \"train\"\n",
    "        fetches_train = [train_op, cross_entropy]\n",
    "        \n",
    "        # running the train_op\n",
    "        res = sess.run(fetches=fetches_train, feed_dict=feed_dict_train)\n",
    "        # storing cross entropy (second fetch argument, so index=1)\n",
    "        train_cost += [res[1]]\n",
    "    \n",
    "        ### VALIDATING ###\n",
    "        # what to feed our accuracy op\n",
    "        feed_dict_valid = {x_pl: X_val, y_: onehot(y_val, num_output)}\n",
    "\n",
    "        # deciding which parts to fetch\n",
    "        fetches_valid = [cross_entropy, accuracy]\n",
    "\n",
    "        # running the validation\n",
    "        res = sess.run(fetches=fetches_valid, feed_dict=feed_dict_valid)\n",
    "        val_cost += [res[0]]\n",
    "        val_acc += [res[1]]\n",
    "\n",
    "        if e % 100 == 0:\n",
    "            print(\"Epoch %i, Train Cost: %0.3f\\tVal Cost: %0.3f\\t Val acc: %0.3f\" \n",
    "            %(e, train_cost[-1],val_cost[-1],val_acc[-1]))\n",
    "\n",
    "    ### TESTING ###\n",
    "    # what to feed our accuracy op\n",
    "    feed_dict_test = {x_pl: X_test, y_: onehot(y_test, num_output)}\n",
    "\n",
    "    # deciding which parts to fetch\n",
    "    fetches_test = [cross_entropy, accuracy]\n",
    "\n",
    "    # running the validation\n",
    "    res = sess.run(fetches=fetches_test, feed_dict=feed_dict_test)\n",
    "    test_cost = res[0]\n",
    "    test_acc = res[1]\n",
    "    print(\"\\nTest Cost: %0.3f\\tTest Accuracy: %0.3f\" %(test_cost, test_acc))\n",
    "    \n",
    "    # For plotting purposes\n",
    "    # plot_decision_boundary(lambda x: pred(x, sess), X_te, y_te)\n",
    "\n",
    "epoch = np.arange(len(train_cost))\n",
    "plt.figure()\n",
    "plt.plot(epoch,train_cost,'r',epoch,val_cost,'b')\n",
    "plt.legend(['Train Loss','Val Loss'])\n",
    "plt.xlabel('Updates'), plt.ylabel('Loss')"
   ]
  },
  {
   "cell_type": "code",
   "execution_count": null,
   "metadata": {
    "collapsed": true
   },
   "outputs": [],
   "source": []
  }
 ],
 "metadata": {
  "anaconda-cloud": {},
  "kernelspec": {
   "display_name": "Python [conda root]",
   "language": "python",
   "name": "conda-root-py"
  },
  "language_info": {
   "codemirror_mode": {
    "name": "ipython",
    "version": 2
   },
   "file_extension": ".py",
   "mimetype": "text/x-python",
   "name": "python",
   "nbconvert_exporter": "python",
   "pygments_lexer": "ipython2",
   "version": "2.7.12"
  }
 },
 "nbformat": 4,
 "nbformat_minor": 1
}
