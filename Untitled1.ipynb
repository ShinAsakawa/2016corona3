{
 "cells": [
  {
   "cell_type": "code",
   "execution_count": 1,
   "metadata": {
    "collapsed": false
   },
   "outputs": [
    {
     "name": "stdout",
     "output_type": "stream",
     "text": [
      "TERM_PROGRAM=Apple_Terminal\r\n",
      "SHELL=/bin/bash\r\n",
      "TERM=xterm-color\r\n",
      "CLICOLOR=1\r\n",
      "TMPDIR=/var/folders/ds/wy4_9sbj05gfq0lf99jmz2d40000gn/T/\r\n",
      "Apple_PubSub_Socket_Render=/private/tmp/com.apple.launchd.KN0JvkVzt1/Render\r\n",
      "TERM_PROGRAM_VERSION=387\r\n",
      "TERM_SESSION_ID=6EB439E3-2F1A-4D54-89F9-BA335AE76B60\r\n",
      "LC_ALL=C\r\n",
      "HISTFILESIZE=30000\r\n",
      "USER=asakawa\r\n",
      "SSH_AUTH_SOCK=/private/tmp/com.apple.launchd.9N5iLiFtIw/Listeners\r\n",
      "__CF_USER_TEXT_ENCODING=0x1F5:0x0:0x0\r\n",
      "JPY_PARENT_PID=2348\r\n",
      "PAGER=cat\r\n",
      "PATH=/Users/asakawa/anaconda2/bin:/Users/asakawa/anaconda2/bin:/Users/asakawa/anaconda2/bin:/Library/TeX/texbin:/usr/local/bin:/usr/local/sbin:/usr/bin:/usr/sbin:/bin:/sbin:/Users/asakawa/bin:/Users/asakawa/Jobman/bin\r\n",
      "HDF5_DISABLE_VERSION_CHECK=1\r\n",
      "_=/usr/bin/env\r\n",
      "PWD=/Users/asakawa/study/2016DG.Naviplus/2016corona3\r\n",
      "MPLBACKEND=module://ipykernel.pylab.backend_inline\r\n",
      "LUA_PATH=/Users/asakawa/.luarocks/share/lua/5.1/?.lua;/Users/asakawa/.luarocks/share/lua/5.1/?/init.lua;/Users/asakawa/torch/install/share/lua/5.1/?.lua;/Users/asakawa/torch/install/share/lua/5.1/?/init.lua;./?.lua;/Users/asakawa/torch/install/share/luajit-2.1.0-beta1/?.lua;/usr/local/share/lua/5.1/?.lua;/usr/local/share/lua/5.1/?/init.lua\r\n",
      "LUA_CPATH=/Users/asakawa/.luarocks/lib/lua/5.1/?.so;/Users/asakawa/torch/install/lib/lua/5.1/?.so;./?.so;/usr/local/lib/lua/5.1/?.so;/usr/local/lib/lua/5.1/loadall.so\r\n",
      "XPC_FLAGS=0x0\r\n",
      "XPC_SERVICE_NAME=0\r\n",
      "SHLVL=2\r\n",
      "HOME=/Users/asakawa\r\n",
      "PYLEARN2_DATA_PATH=/Users/asakawa/study/Pylearn2\r\n",
      "PYTHONPATH=/Users/asakawa/Jobman\r\n",
      "LOGNAME=asakawa\r\n",
      "PYLEARN2_VIEWER_COMMAND=open -Wn\r\n",
      "LC_CTYPE=UTF-8\r\n",
      "DISPLAY=/private/tmp/com.apple.launchd.KP4ZPn7iLw/org.macosforge.xquartz:0\r\n",
      "GIT_PAGER=cat\r\n",
      "HISTFILE=/Users/asakawa/.bash_sessions/6EB439E3-2F1A-4D54-89F9-BA335AE76B60.historynew\r\n"
     ]
    }
   ],
   "source": [
    "!env"
   ]
  },
  {
   "cell_type": "code",
   "execution_count": null,
   "metadata": {
    "collapsed": true
   },
   "outputs": [],
   "source": []
  }
 ],
 "metadata": {
  "kernelspec": {
   "display_name": "Python [default]",
   "language": "python",
   "name": "python2"
  },
  "language_info": {
   "codemirror_mode": {
    "name": "ipython",
    "version": 2
   },
   "file_extension": ".py",
   "mimetype": "text/x-python",
   "name": "python",
   "nbconvert_exporter": "python",
   "pygments_lexer": "ipython2",
   "version": "2.7.12"
  }
 },
 "nbformat": 4,
 "nbformat_minor": 1
}
