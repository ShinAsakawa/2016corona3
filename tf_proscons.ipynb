{
 "cells": [
  {
   "cell_type": "markdown",
   "metadata": {},
   "source": [
    "## tensorFlow の Pros/Cons\n",
    "\n",
    "## Pros\n",
    "   - Python + numpy\n",
    "   - 計算グラフによる抽象化。Theano同様，RNN に効力を発揮\n",
    "   - コンパイル時間は Theano より高速\n",
    "   - 生 Theano より簡便\n",
    "   - 視覚化に TensorBoard が使える (Theano だと pyplot 経由)\n",
    "   - データ並列化，モデル並列化 Thanks for Jeff Dean\n",
    "   \n",
    "## Pros/Cons\n",
    "   - 完全なオープンソースではないDistributed models, but not open-source yet\n",
    "\n",
    "## Cons\n",
    "   - tf より高速なフレームワークがすでに存在する\n",
    "   - Torch よりは高速。だが黒魔法搭載\n",
    "   - 学習済モデルは多くない"
   ]
  },
  {
   "cell_type": "code",
   "execution_count": null,
   "metadata": {
    "collapsed": true
   },
   "outputs": [],
   "source": []
  }
 ],
 "metadata": {
  "kernelspec": {
   "display_name": "Python [conda root]",
   "language": "python",
   "name": "conda-root-py"
  },
  "language_info": {
   "codemirror_mode": {
    "name": "ipython",
    "version": 2
   },
   "file_extension": ".py",
   "mimetype": "text/x-python",
   "name": "python",
   "nbconvert_exporter": "python",
   "pygments_lexer": "ipython2",
   "version": "2.7.12"
  }
 },
 "nbformat": 4,
 "nbformat_minor": 1
}
